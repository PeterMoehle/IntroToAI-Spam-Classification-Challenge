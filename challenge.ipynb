{
 "cells": [
  {
   "cell_type": "markdown",
   "id": "271d23d48a621b03",
   "metadata": {},
   "source": [
    "# Spam Classification Challenge\n",
    "\n",
    ">If, at any point before the written exam, you (as a group) submit an e-mail spam classifier that beats my precision/recall performance on the e-mail data test set, I will award everyone a 2.5% bonus in the written exam (e.g., if you score 87.5% in the exam, I will bump it up to 90%).\n"
   ]
  },
  {
   "cell_type": "markdown",
   "id": "7b2b856b1fba5855",
   "metadata": {},
   "source": [
    "## Rules\n",
    "- Must be submitted before the day of the written exam.\n",
    "- Must be implemented in Python.\n",
    "- Must use a method discussed in the course (variations/modifications are okay).\n",
    "- Must be a single submission that all of you unanimously agree on.\n",
    "- You win and earn the 2.5% bonus, if 2*(precision*recall)/(precision+recall) of your model on the test set is\n",
    "larger than mine (this is called F1-score).\n",
    "- I will upload the training set and my own code on May 12, 2025. You won’t have access to the test set."
   ]
  },
  {
   "cell_type": "markdown",
   "id": "6e1be428d22a03d8",
   "metadata": {},
   "source": [
    "### 1. Load imports and data\n",
    "Classification-Data will be imported as a bag of words."
   ]
  },
  {
   "cell_type": "code",
   "id": "dc85975d80e880f1",
   "metadata": {
    "ExecuteTime": {
     "end_time": "2025-07-01T13:28:45.485349Z",
     "start_time": "2025-07-01T13:28:41.407312Z"
    }
   },
   "source": [
    "from models import NaiveBayes, NeuralNetwork\n",
    "from utils import DataLoader, Evaluator\n",
    "\n",
    "\n",
    "# Load spam classification data\n",
    "X, y = DataLoader.load_spam_data('./data_train')"
   ],
   "outputs": [
    {
     "name": "stdout",
     "output_type": "stream",
     "text": [
      "Vocabulary loaded\n",
      "Loaded 4125 emails (1176 spam, 2949 no-spam)\n",
      "Feature matrix shape: (4125, 50371)\n"
     ]
    }
   ],
   "execution_count": 7
  },
  {
   "cell_type": "markdown",
   "id": "47606ac206b3a013",
   "metadata": {},
   "source": [
    "### 2. Add the model you want to evaluate\n",
    "Add as many models as you want. You can add a model severalt times with different hyperparameters.\n",
    "\n",
    "*Recommended:  Add a meaningful description for easier evaluation.*\n",
    "\n",
    "Use existent models with different hyperparameters or add your own model by inheriting from `Model` class."
   ]
  },
  {
   "cell_type": "code",
   "id": "87e0d3e80b13a3d8",
   "metadata": {
    "ExecuteTime": {
     "end_time": "2025-07-01T13:28:45.506367Z",
     "start_time": "2025-07-01T13:28:45.487691Z"
    }
   },
   "source": [
    "# Define models to evaluate\n",
    "models = [\n",
    "    NaiveBayes(name=\"Naive Bayes\"),\n",
    "    NeuralNetwork(name=\"NN (Logistic Loss, Hidden=16, Epochs=5, LR=0.01)\",\n",
    "        hidden_dim=16, epochs=5, lr=0.01, loss_type=\"logistic2\"\n",
    "    ),\n",
    "]\n",
    "print(f\"{len(models)} models defined.\")"
   ],
   "outputs": [
    {
     "name": "stdout",
     "output_type": "stream",
     "text": [
      "2 models defined.\n"
     ]
    }
   ],
   "execution_count": 8
  },
  {
   "cell_type": "markdown",
   "id": "d0982c644ef67135",
   "metadata": {},
   "source": [
    "### 3. Train all models\n",
    "Evaluation will use a random state for reproducibility.\n",
    "\n",
    "All defined models will be evaluated using k-fold-cross-validation to ensure robust performance. We should be able to identify overfitting and how good a model generalizes on unseen data. A higher k will result in a longer training duration."
   ]
  },
  {
   "cell_type": "code",
   "id": "d81c9bcee9623f03",
   "metadata": {
    "ExecuteTime": {
     "end_time": "2025-07-01T13:38:05.188281Z",
     "start_time": "2025-07-01T13:34:26.911675Z"
    }
   },
   "source": [
    "print(f\"\\nEvaluating {len(models)} models...\")\n",
    "\n",
    "# Create evaluator and run k-fold cross-validation\n",
    "evaluator = Evaluator(models=models, n_splits=3, random_state=42)\n",
    "\n",
    "results = evaluator.evaluate(X, y, verbose=True)"
   ],
   "outputs": [
    {
     "name": "stdout",
     "output_type": "stream",
     "text": [
      "\n",
      "Evaluating 2 models...\n",
      "\n",
      "=== K-Fold Evaluation for Model: Naive Bayes ===\n",
      "Trained Naive Bayes: 757 spam, 1993 no-spam emails\n",
      "Fold 1/3: Accuracy = 0.8145; F1 Score = 0.5813\n",
      "Fold 2/3: Accuracy = 0.8567; F1 Score = 0.6562\n",
      "Fold 3/3: Accuracy = 0.8378; F1 Score = 0.6188\n",
      "\n",
      "Model: Naive Bayes\n",
      "Mean Accuracy: 0.8364 ± 0.0173\n",
      "\n",
      "=== K-Fold Evaluation for Model: NN (Logistic Loss, Hidden=16, Epochs=5, LR=0.01) ===\n",
      "Epoch 1/5, Loss: 0.692718\n",
      "Epoch 2/5, Loss: 0.429021\n",
      "Epoch 3/5, Loss: 0.266898\n",
      "Epoch 4/5, Loss: 0.165316\n",
      "Epoch 5/5, Loss: 0.164964\n",
      "Fold 1/3: Accuracy = 0.8793; F1 Score = 0.7530\n",
      "Fold 2/3: Accuracy = 0.9629; F1 Score = 0.9354\n",
      "Fold 3/3: Accuracy = 0.9745; F1 Score = 0.9535\n",
      "\n",
      "Model: NN (Logistic Loss, Hidden=16, Epochs=5, LR=0.01)\n",
      "Mean Accuracy: 0.9389 ± 0.0424\n"
     ]
    }
   ],
   "execution_count": 11
  },
  {
   "cell_type": "markdown",
   "id": "3d67a81347978703",
   "metadata": {},
   "source": [
    "## 4. Evaluate the trained models"
   ]
  },
  {
   "cell_type": "code",
   "id": "f78872f24487feae",
   "metadata": {
    "ExecuteTime": {
     "end_time": "2025-07-01T13:38:05.290731Z",
     "start_time": "2025-07-01T13:38:05.232496Z"
    }
   },
   "source": [
    "evaluator.print_summary()\n",
    "\n",
    "best_model_acc = evaluator.best_model(\"mean_accuracy\")\n",
    "if best_model_acc:\n",
    "    print(f\"\\nBest performing model (ACC): {best_model_acc}\")\n",
    "    best_acc = results[best_model_acc]['mean_accuracy']\n",
    "    best_std = results[best_model_acc]['std_accuracy']\n",
    "    print(f\"Best accuracy: {best_acc:.4f} ± {best_std:.4f}\")\n",
    "    \n",
    "best_model_f1 = evaluator.best_model(\"mean_f1\")\n",
    "if best_model_f1:\n",
    "    print(f\"\\nBest performing model (F1): {best_model_f1}\")\n",
    "    best_f1 = results[best_model_f1]['mean_f1']\n",
    "    best_std = results[best_model_f1]['std_f1']\n",
    "    print(f\"Best f1-score: {best_f1:.4f} ± {best_std:.4f}\")\n",
    "\n",
    "print(\"\\nEvaluation completed successfully!\")"
   ],
   "outputs": [
    {
     "name": "stdout",
     "output_type": "stream",
     "text": [
      "\n",
      "============================================================\n",
      "FINAL K-FOLD COMPARISON RESULTS\n",
      "============================================================\n",
      "Naive Bayes: ACC(0.8364 ± 0.0173); F1(0.6188 0.0306)\n",
      "NN (Logistic Loss, Hidden=16, Epochs=5, LR=0.01): ACC(0.9389 ± 0.0424); F1(0.8806 0.0906)\n",
      "\n",
      "Best performing model (ACC): NN (Logistic Loss, Hidden=16, Epochs=5, LR=0.01)\n",
      "Best accuracy: 0.9389 ± 0.0424\n",
      "\n",
      "Best performing model (F1): NN (Logistic Loss, Hidden=16, Epochs=5, LR=0.01)\n",
      "Best f1-score: 0.8806 ± 0.0906\n",
      "\n",
      "Evaluation completed successfully!\n"
     ]
    }
   ],
   "execution_count": 12
  },
  {
   "metadata": {},
   "cell_type": "code",
   "outputs": [],
   "execution_count": null,
   "source": "",
   "id": "de3c7bedd41b7df2"
  }
 ],
 "metadata": {
  "kernelspec": {
   "display_name": "Python 3 (ipykernel)",
   "language": "python",
   "name": "python3"
  },
  "language_info": {
   "codemirror_mode": {
    "name": "ipython",
    "version": 3
   },
   "file_extension": ".py",
   "mimetype": "text/x-python",
   "name": "python",
   "nbconvert_exporter": "python",
   "pygments_lexer": "ipython3",
   "version": "3.11.9"
  }
 },
 "nbformat": 4,
 "nbformat_minor": 5
}
